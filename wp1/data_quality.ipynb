{
 "cells": [
  {
   "cell_type": "markdown",
   "id": "a20e1277",
   "metadata": {},
   "source": [
    "# Data Quality\n",
    "Evaluate the data quality of the given dataset"
   ]
  },
  {
   "cell_type": "markdown",
   "id": "7ff2915c",
   "metadata": {},
   "source": [
    "## 1. Constants"
   ]
  },
  {
   "cell_type": "code",
   "execution_count": 1,
   "id": "951e3dcf",
   "metadata": {},
   "outputs": [],
   "source": [
    "h5ad_path = \"/mnt/workspace_stud/mbentse/catlas_objects/esophagus_muscularis_SM-A8CPH.h5ad\""
   ]
  },
  {
   "cell_type": "markdown",
   "id": "672f0d2c",
   "metadata": {},
   "source": [
    "## 2. Imports"
   ]
  },
  {
   "cell_type": "markdown",
   "id": "4d7d4bc9",
   "metadata": {},
   "source": [
    "## 3. Read h5ad files and build anndata objects"
   ]
  },
  {
   "cell_type": "code",
   "execution_count": 2,
   "id": "f969d99d",
   "metadata": {},
   "outputs": [],
   "source": [
    "# Import packages\n",
    "import episcanpy as epi\n",
    "import scanpy as sc\n",
    "import numpy as np\n",
    "import matplotlib.pyplot as plt\n",
    "import seaborn as sns"
   ]
  },
  {
   "cell_type": "markdown",
   "id": "741247ff",
   "metadata": {},
   "source": [
    "## 3. Read h5ad files and build anndata objects"
   ]
  },
  {
   "cell_type": "code",
   "execution_count": 3,
   "id": "c2ce6ebb",
   "metadata": {},
   "outputs": [],
   "source": [
    "adata = epi.read_h5ad(h5ad_path)"
   ]
  },
  {
   "cell_type": "markdown",
   "id": "d5f65a3b",
   "metadata": {},
   "source": [
    "## 4. Add Metrics"
   ]
  },
  {
   "cell_type": "code",
   "execution_count": 4,
   "id": "11e4050b",
   "metadata": {},
   "outputs": [],
   "source": [
    "# compute metrics\n",
    "sc.pp.calculate_qc_metrics(adata=adata, percent_top=None, inplace=True)"
   ]
  },
  {
   "cell_type": "markdown",
   "id": "8f63c797",
   "metadata": {},
   "source": [
    "## 5. Inspect Data"
   ]
  },
  {
   "cell_type": "code",
   "execution_count": 5,
   "id": "38a2c38f",
   "metadata": {},
   "outputs": [
    {
     "data": {
      "text/plain": [
       "AnnData object with n_obs × n_vars = 10997 × 1154611\n",
       "    obs: 'n_genes_by_counts', 'log1p_n_genes_by_counts', 'total_counts', 'log1p_total_counts'\n",
       "    var: 'n_cells_by_counts', 'mean_counts', 'log1p_mean_counts', 'pct_dropout_by_counts', 'total_counts', 'log1p_total_counts'"
      ]
     },
     "execution_count": 5,
     "metadata": {},
     "output_type": "execute_result"
    }
   ],
   "source": [
    "adata"
   ]
  },
  {
   "cell_type": "code",
   "execution_count": 6,
   "id": "2105e2ba",
   "metadata": {},
   "outputs": [
    {
     "data": {
      "text/html": [
       "<div>\n",
       "<style scoped>\n",
       "    .dataframe tbody tr th:only-of-type {\n",
       "        vertical-align: middle;\n",
       "    }\n",
       "\n",
       "    .dataframe tbody tr th {\n",
       "        vertical-align: top;\n",
       "    }\n",
       "\n",
       "    .dataframe thead th {\n",
       "        text-align: right;\n",
       "    }\n",
       "</style>\n",
       "<table border=\"1\" class=\"dataframe\">\n",
       "  <thead>\n",
       "    <tr style=\"text-align: right;\">\n",
       "      <th></th>\n",
       "      <th>n_genes_by_counts</th>\n",
       "      <th>log1p_n_genes_by_counts</th>\n",
       "      <th>total_counts</th>\n",
       "      <th>log1p_total_counts</th>\n",
       "    </tr>\n",
       "    <tr>\n",
       "      <th>index</th>\n",
       "      <th></th>\n",
       "      <th></th>\n",
       "      <th></th>\n",
       "      <th></th>\n",
       "    </tr>\n",
       "  </thead>\n",
       "  <tbody>\n",
       "    <tr>\n",
       "      <th>esophagus_muscularis_SM-A8CPH_1+AAGCTATACCGCTTCTCACAAG</th>\n",
       "      <td>6264</td>\n",
       "      <td>8.742734</td>\n",
       "      <td>10835.0</td>\n",
       "      <td>9.290629</td>\n",
       "    </tr>\n",
       "    <tr>\n",
       "      <th>esophagus_muscularis_SM-A8CPH_1+AATTCGGATGAAATGCTACGGG</th>\n",
       "      <td>827</td>\n",
       "      <td>6.719013</td>\n",
       "      <td>1365.0</td>\n",
       "      <td>7.219642</td>\n",
       "    </tr>\n",
       "    <tr>\n",
       "      <th>esophagus_muscularis_SM-A8CPH_1+ACTGCACAGAGTCCAGATTTCC</th>\n",
       "      <td>2334</td>\n",
       "      <td>7.755767</td>\n",
       "      <td>4000.0</td>\n",
       "      <td>8.294300</td>\n",
       "    </tr>\n",
       "    <tr>\n",
       "      <th>esophagus_muscularis_SM-A8CPH_1+AGGTCACTGAGCTTACAATCGT</th>\n",
       "      <td>768</td>\n",
       "      <td>6.645091</td>\n",
       "      <td>1181.0</td>\n",
       "      <td>7.074963</td>\n",
       "    </tr>\n",
       "    <tr>\n",
       "      <th>esophagus_muscularis_SM-A8CPH_1+AGTCGGAACGCCCAAGATCGAC</th>\n",
       "      <td>2940</td>\n",
       "      <td>7.986505</td>\n",
       "      <td>4891.0</td>\n",
       "      <td>8.495357</td>\n",
       "    </tr>\n",
       "    <tr>\n",
       "      <th>...</th>\n",
       "      <td>...</td>\n",
       "      <td>...</td>\n",
       "      <td>...</td>\n",
       "      <td>...</td>\n",
       "    </tr>\n",
       "    <tr>\n",
       "      <th>esophagus_muscularis_SM-A8CPH_1+CCATCTGGCATGCGATCGTTAG</th>\n",
       "      <td>1612</td>\n",
       "      <td>7.385851</td>\n",
       "      <td>2685.0</td>\n",
       "      <td>7.895808</td>\n",
       "    </tr>\n",
       "    <tr>\n",
       "      <th>esophagus_muscularis_SM-A8CPH_1+TTATGGATGCAAAGGATCGGCT</th>\n",
       "      <td>539</td>\n",
       "      <td>6.291569</td>\n",
       "      <td>888.0</td>\n",
       "      <td>6.790097</td>\n",
       "    </tr>\n",
       "    <tr>\n",
       "      <th>esophagus_muscularis_SM-A8CPH_1+ACGTGTTGGTGAGTGTGGCATA</th>\n",
       "      <td>1005</td>\n",
       "      <td>6.913737</td>\n",
       "      <td>1593.0</td>\n",
       "      <td>7.374002</td>\n",
       "    </tr>\n",
       "    <tr>\n",
       "      <th>esophagus_muscularis_SM-A8CPH_1+GGCACGAACAATACTAAGCGCT</th>\n",
       "      <td>1209</td>\n",
       "      <td>7.098376</td>\n",
       "      <td>1920.0</td>\n",
       "      <td>7.560601</td>\n",
       "    </tr>\n",
       "    <tr>\n",
       "      <th>esophagus_muscularis_SM-A8CPH_1+GGCACGAACAGTGTCATGAAAG</th>\n",
       "      <td>1557</td>\n",
       "      <td>7.351158</td>\n",
       "      <td>2411.0</td>\n",
       "      <td>7.788211</td>\n",
       "    </tr>\n",
       "  </tbody>\n",
       "</table>\n",
       "<p>10997 rows × 4 columns</p>\n",
       "</div>"
      ],
      "text/plain": [
       "                                                    n_genes_by_counts  \\\n",
       "index                                                                   \n",
       "esophagus_muscularis_SM-A8CPH_1+AAGCTATACCGCTTC...               6264   \n",
       "esophagus_muscularis_SM-A8CPH_1+AATTCGGATGAAATG...                827   \n",
       "esophagus_muscularis_SM-A8CPH_1+ACTGCACAGAGTCCA...               2334   \n",
       "esophagus_muscularis_SM-A8CPH_1+AGGTCACTGAGCTTA...                768   \n",
       "esophagus_muscularis_SM-A8CPH_1+AGTCGGAACGCCCAA...               2940   \n",
       "...                                                               ...   \n",
       "esophagus_muscularis_SM-A8CPH_1+CCATCTGGCATGCGA...               1612   \n",
       "esophagus_muscularis_SM-A8CPH_1+TTATGGATGCAAAGG...                539   \n",
       "esophagus_muscularis_SM-A8CPH_1+ACGTGTTGGTGAGTG...               1005   \n",
       "esophagus_muscularis_SM-A8CPH_1+GGCACGAACAATACT...               1209   \n",
       "esophagus_muscularis_SM-A8CPH_1+GGCACGAACAGTGTC...               1557   \n",
       "\n",
       "                                                    log1p_n_genes_by_counts  \\\n",
       "index                                                                         \n",
       "esophagus_muscularis_SM-A8CPH_1+AAGCTATACCGCTTC...                 8.742734   \n",
       "esophagus_muscularis_SM-A8CPH_1+AATTCGGATGAAATG...                 6.719013   \n",
       "esophagus_muscularis_SM-A8CPH_1+ACTGCACAGAGTCCA...                 7.755767   \n",
       "esophagus_muscularis_SM-A8CPH_1+AGGTCACTGAGCTTA...                 6.645091   \n",
       "esophagus_muscularis_SM-A8CPH_1+AGTCGGAACGCCCAA...                 7.986505   \n",
       "...                                                                     ...   \n",
       "esophagus_muscularis_SM-A8CPH_1+CCATCTGGCATGCGA...                 7.385851   \n",
       "esophagus_muscularis_SM-A8CPH_1+TTATGGATGCAAAGG...                 6.291569   \n",
       "esophagus_muscularis_SM-A8CPH_1+ACGTGTTGGTGAGTG...                 6.913737   \n",
       "esophagus_muscularis_SM-A8CPH_1+GGCACGAACAATACT...                 7.098376   \n",
       "esophagus_muscularis_SM-A8CPH_1+GGCACGAACAGTGTC...                 7.351158   \n",
       "\n",
       "                                                    total_counts  \\\n",
       "index                                                              \n",
       "esophagus_muscularis_SM-A8CPH_1+AAGCTATACCGCTTC...       10835.0   \n",
       "esophagus_muscularis_SM-A8CPH_1+AATTCGGATGAAATG...        1365.0   \n",
       "esophagus_muscularis_SM-A8CPH_1+ACTGCACAGAGTCCA...        4000.0   \n",
       "esophagus_muscularis_SM-A8CPH_1+AGGTCACTGAGCTTA...        1181.0   \n",
       "esophagus_muscularis_SM-A8CPH_1+AGTCGGAACGCCCAA...        4891.0   \n",
       "...                                                          ...   \n",
       "esophagus_muscularis_SM-A8CPH_1+CCATCTGGCATGCGA...        2685.0   \n",
       "esophagus_muscularis_SM-A8CPH_1+TTATGGATGCAAAGG...         888.0   \n",
       "esophagus_muscularis_SM-A8CPH_1+ACGTGTTGGTGAGTG...        1593.0   \n",
       "esophagus_muscularis_SM-A8CPH_1+GGCACGAACAATACT...        1920.0   \n",
       "esophagus_muscularis_SM-A8CPH_1+GGCACGAACAGTGTC...        2411.0   \n",
       "\n",
       "                                                    log1p_total_counts  \n",
       "index                                                                   \n",
       "esophagus_muscularis_SM-A8CPH_1+AAGCTATACCGCTTC...            9.290629  \n",
       "esophagus_muscularis_SM-A8CPH_1+AATTCGGATGAAATG...            7.219642  \n",
       "esophagus_muscularis_SM-A8CPH_1+ACTGCACAGAGTCCA...            8.294300  \n",
       "esophagus_muscularis_SM-A8CPH_1+AGGTCACTGAGCTTA...            7.074963  \n",
       "esophagus_muscularis_SM-A8CPH_1+AGTCGGAACGCCCAA...            8.495357  \n",
       "...                                                                ...  \n",
       "esophagus_muscularis_SM-A8CPH_1+CCATCTGGCATGCGA...            7.895808  \n",
       "esophagus_muscularis_SM-A8CPH_1+TTATGGATGCAAAGG...            6.790097  \n",
       "esophagus_muscularis_SM-A8CPH_1+ACGTGTTGGTGAGTG...            7.374002  \n",
       "esophagus_muscularis_SM-A8CPH_1+GGCACGAACAATACT...            7.560601  \n",
       "esophagus_muscularis_SM-A8CPH_1+GGCACGAACAGTGTC...            7.788211  \n",
       "\n",
       "[10997 rows x 4 columns]"
      ]
     },
     "execution_count": 6,
     "metadata": {},
     "output_type": "execute_result"
    }
   ],
   "source": [
    "adata.obs"
   ]
  },
  {
   "cell_type": "code",
   "execution_count": 7,
   "id": "0d7c3f92",
   "metadata": {},
   "outputs": [
    {
     "name": "stdout",
     "output_type": "stream",
     "text": [
      "Total elements: 12697257167\n",
      "Non-zero elements: 35591247\n",
      "Sparsity of the matrix: 99.71969%\n"
     ]
    }
   ],
   "source": [
    "# Basic statistics\n",
    "total_elements = adata.shape[0] * adata.shape[1]\n",
    "non_zero_elements = adata.X.count_nonzero()\n",
    "sparsity = 1 - (non_zero_elements / total_elements)\n",
    "\n",
    "print(f\"Total elements: {total_elements}\")\n",
    "print(f\"Non-zero elements: {non_zero_elements}\")\n",
    "print(f\"Sparsity of the matrix: {sparsity*100:.5f}%\")"
   ]
  },
  {
   "cell_type": "code",
   "execution_count": 8,
   "id": "d37818b0",
   "metadata": {},
   "outputs": [
    {
     "data": {
      "text/html": [
       "<div>\n",
       "<style scoped>\n",
       "    .dataframe tbody tr th:only-of-type {\n",
       "        vertical-align: middle;\n",
       "    }\n",
       "\n",
       "    .dataframe tbody tr th {\n",
       "        vertical-align: top;\n",
       "    }\n",
       "\n",
       "    .dataframe thead th {\n",
       "        text-align: right;\n",
       "    }\n",
       "</style>\n",
       "<table border=\"1\" class=\"dataframe\">\n",
       "  <thead>\n",
       "    <tr style=\"text-align: right;\">\n",
       "      <th></th>\n",
       "      <th>n_cells_by_counts</th>\n",
       "      <th>mean_counts</th>\n",
       "      <th>log1p_mean_counts</th>\n",
       "      <th>pct_dropout_by_counts</th>\n",
       "      <th>total_counts</th>\n",
       "      <th>log1p_total_counts</th>\n",
       "    </tr>\n",
       "    <tr>\n",
       "      <th>index</th>\n",
       "      <th></th>\n",
       "      <th></th>\n",
       "      <th></th>\n",
       "      <th></th>\n",
       "      <th></th>\n",
       "      <th></th>\n",
       "    </tr>\n",
       "  </thead>\n",
       "  <tbody>\n",
       "    <tr>\n",
       "      <th>chr1:79215-79615</th>\n",
       "      <td>0</td>\n",
       "      <td>0.0</td>\n",
       "      <td>0.0</td>\n",
       "      <td>100.0</td>\n",
       "      <td>0.0</td>\n",
       "      <td>0.0</td>\n",
       "    </tr>\n",
       "    <tr>\n",
       "      <th>chr1:102755-103155</th>\n",
       "      <td>0</td>\n",
       "      <td>0.0</td>\n",
       "      <td>0.0</td>\n",
       "      <td>100.0</td>\n",
       "      <td>0.0</td>\n",
       "      <td>0.0</td>\n",
       "    </tr>\n",
       "    <tr>\n",
       "      <th>chr1:276109-276509</th>\n",
       "      <td>0</td>\n",
       "      <td>0.0</td>\n",
       "      <td>0.0</td>\n",
       "      <td>100.0</td>\n",
       "      <td>0.0</td>\n",
       "      <td>0.0</td>\n",
       "    </tr>\n",
       "    <tr>\n",
       "      <th>chr1:1192505-1192905</th>\n",
       "      <td>0</td>\n",
       "      <td>0.0</td>\n",
       "      <td>0.0</td>\n",
       "      <td>100.0</td>\n",
       "      <td>0.0</td>\n",
       "      <td>0.0</td>\n",
       "    </tr>\n",
       "    <tr>\n",
       "      <th>chr1:2425891-2426291</th>\n",
       "      <td>0</td>\n",
       "      <td>0.0</td>\n",
       "      <td>0.0</td>\n",
       "      <td>100.0</td>\n",
       "      <td>0.0</td>\n",
       "      <td>0.0</td>\n",
       "    </tr>\n",
       "    <tr>\n",
       "      <th>...</th>\n",
       "      <td>...</td>\n",
       "      <td>...</td>\n",
       "      <td>...</td>\n",
       "      <td>...</td>\n",
       "      <td>...</td>\n",
       "      <td>...</td>\n",
       "    </tr>\n",
       "    <tr>\n",
       "      <th>chrY:19063248-19063648</th>\n",
       "      <td>0</td>\n",
       "      <td>0.0</td>\n",
       "      <td>0.0</td>\n",
       "      <td>100.0</td>\n",
       "      <td>0.0</td>\n",
       "      <td>0.0</td>\n",
       "    </tr>\n",
       "    <tr>\n",
       "      <th>chrY:20597488-20597888</th>\n",
       "      <td>0</td>\n",
       "      <td>0.0</td>\n",
       "      <td>0.0</td>\n",
       "      <td>100.0</td>\n",
       "      <td>0.0</td>\n",
       "      <td>0.0</td>\n",
       "    </tr>\n",
       "    <tr>\n",
       "      <th>chrY:20828469-20828869</th>\n",
       "      <td>0</td>\n",
       "      <td>0.0</td>\n",
       "      <td>0.0</td>\n",
       "      <td>100.0</td>\n",
       "      <td>0.0</td>\n",
       "      <td>0.0</td>\n",
       "    </tr>\n",
       "    <tr>\n",
       "      <th>chrY:56676947-56677347</th>\n",
       "      <td>0</td>\n",
       "      <td>0.0</td>\n",
       "      <td>0.0</td>\n",
       "      <td>100.0</td>\n",
       "      <td>0.0</td>\n",
       "      <td>0.0</td>\n",
       "    </tr>\n",
       "    <tr>\n",
       "      <th>chrY:56678600-56679000</th>\n",
       "      <td>0</td>\n",
       "      <td>0.0</td>\n",
       "      <td>0.0</td>\n",
       "      <td>100.0</td>\n",
       "      <td>0.0</td>\n",
       "      <td>0.0</td>\n",
       "    </tr>\n",
       "  </tbody>\n",
       "</table>\n",
       "<p>15727 rows × 6 columns</p>\n",
       "</div>"
      ],
      "text/plain": [
       "                        n_cells_by_counts  mean_counts  log1p_mean_counts  \\\n",
       "index                                                                       \n",
       "chr1:79215-79615                        0          0.0                0.0   \n",
       "chr1:102755-103155                      0          0.0                0.0   \n",
       "chr1:276109-276509                      0          0.0                0.0   \n",
       "chr1:1192505-1192905                    0          0.0                0.0   \n",
       "chr1:2425891-2426291                    0          0.0                0.0   \n",
       "...                                   ...          ...                ...   \n",
       "chrY:19063248-19063648                  0          0.0                0.0   \n",
       "chrY:20597488-20597888                  0          0.0                0.0   \n",
       "chrY:20828469-20828869                  0          0.0                0.0   \n",
       "chrY:56676947-56677347                  0          0.0                0.0   \n",
       "chrY:56678600-56679000                  0          0.0                0.0   \n",
       "\n",
       "                        pct_dropout_by_counts  total_counts  \\\n",
       "index                                                         \n",
       "chr1:79215-79615                        100.0           0.0   \n",
       "chr1:102755-103155                      100.0           0.0   \n",
       "chr1:276109-276509                      100.0           0.0   \n",
       "chr1:1192505-1192905                    100.0           0.0   \n",
       "chr1:2425891-2426291                    100.0           0.0   \n",
       "...                                       ...           ...   \n",
       "chrY:19063248-19063648                  100.0           0.0   \n",
       "chrY:20597488-20597888                  100.0           0.0   \n",
       "chrY:20828469-20828869                  100.0           0.0   \n",
       "chrY:56676947-56677347                  100.0           0.0   \n",
       "chrY:56678600-56679000                  100.0           0.0   \n",
       "\n",
       "                        log1p_total_counts  \n",
       "index                                       \n",
       "chr1:79215-79615                       0.0  \n",
       "chr1:102755-103155                     0.0  \n",
       "chr1:276109-276509                     0.0  \n",
       "chr1:1192505-1192905                   0.0  \n",
       "chr1:2425891-2426291                   0.0  \n",
       "...                                    ...  \n",
       "chrY:19063248-19063648                 0.0  \n",
       "chrY:20597488-20597888                 0.0  \n",
       "chrY:20828469-20828869                 0.0  \n",
       "chrY:56676947-56677347                 0.0  \n",
       "chrY:56678600-56679000                 0.0  \n",
       "\n",
       "[15727 rows x 6 columns]"
      ]
     },
     "execution_count": 8,
     "metadata": {},
     "output_type": "execute_result"
    }
   ],
   "source": [
    "# genes without counts \n",
    "adata.var[adata.var[\"total_counts\"] < 1]"
   ]
  },
  {
   "cell_type": "code",
   "execution_count": 9,
   "id": "d38907a1",
   "metadata": {},
   "outputs": [
    {
     "data": {
      "text/html": [
       "<div>\n",
       "<style scoped>\n",
       "    .dataframe tbody tr th:only-of-type {\n",
       "        vertical-align: middle;\n",
       "    }\n",
       "\n",
       "    .dataframe tbody tr th {\n",
       "        vertical-align: top;\n",
       "    }\n",
       "\n",
       "    .dataframe thead th {\n",
       "        text-align: right;\n",
       "    }\n",
       "</style>\n",
       "<table border=\"1\" class=\"dataframe\">\n",
       "  <thead>\n",
       "    <tr style=\"text-align: right;\">\n",
       "      <th></th>\n",
       "      <th>n_genes_by_counts</th>\n",
       "      <th>log1p_n_genes_by_counts</th>\n",
       "      <th>total_counts</th>\n",
       "      <th>log1p_total_counts</th>\n",
       "    </tr>\n",
       "    <tr>\n",
       "      <th>index</th>\n",
       "      <th></th>\n",
       "      <th></th>\n",
       "      <th></th>\n",
       "      <th></th>\n",
       "    </tr>\n",
       "  </thead>\n",
       "  <tbody>\n",
       "  </tbody>\n",
       "</table>\n",
       "</div>"
      ],
      "text/plain": [
       "Empty DataFrame\n",
       "Columns: [n_genes_by_counts, log1p_n_genes_by_counts, total_counts, log1p_total_counts]\n",
       "Index: []"
      ]
     },
     "execution_count": 9,
     "metadata": {},
     "output_type": "execute_result"
    }
   ],
   "source": [
    "# cells without counts \n",
    "adata.obs[adata.obs[\"total_counts\"] < 1]"
   ]
  },
  {
   "cell_type": "code",
   "execution_count": 10,
   "id": "d604d1f0",
   "metadata": {},
   "outputs": [
    {
     "data": {
      "text/plain": [
       "511.0"
      ]
     },
     "execution_count": 10,
     "metadata": {},
     "output_type": "execute_result"
    }
   ],
   "source": [
    "# The cell with the least counts\n",
    "adata.obs[\"total_counts\"].min()"
   ]
  },
  {
   "cell_type": "markdown",
   "id": "7a54a632",
   "metadata": {},
   "source": [
    "## 6. Plot Histogramms"
   ]
  },
  {
   "cell_type": "code",
   "execution_count": 11,
   "id": "a771089d",
   "metadata": {},
   "outputs": [
    {
     "data": {
      "image/png": "[encoded data removed]",
      "text/plain": [
       "<Figure size 640x480 with 1 Axes>"
      ]
     },
     "metadata": {},
     "output_type": "display_data"
    }
   ],
   "source": [
    "# Plot a histogram of all counts values\n",
    "\n",
    "peak_values, counts = np.unique(adata.X.data, return_counts=True)\n",
    "plt.bar(peak_values, counts)\n",
    "plt.xlabel('Peak Values')\n",
    "plt.ylabel('Frequency')\n",
    "plt.title('Histogram of ATAC-Seq counts values')\n",
    "plt.yscale('log')\n",
    "plt.show()"
   ]
  },
  {
   "cell_type": "code",
   "execution_count": 12,
   "id": "10bc2c1e",
   "metadata": {
    "scrolled": false
   },
   "outputs": [
    {
     "name": "stderr",
     "output_type": "stream",
     "text": [
      " FutureWarning:/home/stud1/.conda/envs/datenanalyse/lib/python3.10/site-packages/seaborn/_oldcore.py:1498: is_categorical_dtype is deprecated and will be removed in a future version. Use isinstance(dtype, CategoricalDtype) instead\n",
      " FutureWarning:/home/stud1/.conda/envs/datenanalyse/lib/python3.10/site-packages/seaborn/_oldcore.py:1119: use_inf_as_na option is deprecated and will be removed in a future version. Convert inf values to NaN before operating instead.\n"
     ]
    },
    {
     "data": {
      "text/plain": [
       "<seaborn.axisgrid.FacetGrid at 0x7fc4802bdd80>"
      ]
     },
     "execution_count": 12,
     "metadata": {},
     "output_type": "execute_result"
    },
    {
     "data": {
      "image/png": "[encoded data removed]",
      "text/plain": [
       "<Figure size 500x500 with 1 Axes>"
      ]
     },
     "metadata": {},
     "output_type": "display_data"
    }
   ],
   "source": [
    "sns.displot(adata.obs[\"total_counts\"], kind='hist', log_scale=(False, True), bins=200)"
   ]
  },
  {
   "cell_type": "markdown",
   "id": "69c6717b",
   "metadata": {},
   "source": [
    "## 7. Filter out that one big cell"
   ]
  },
  {
   "cell_type": "code",
   "execution_count": 13,
   "id": "14ba8b73",
   "metadata": {},
   "outputs": [],
   "source": [
    "sc.pp.filter_cells(adata, max_counts=50000)"
   ]
  },
  {
   "cell_type": "code",
   "execution_count": 14,
   "id": "0da779fa",
   "metadata": {},
   "outputs": [
    {
     "data": {
      "image/png": "[encoded data removed]",
      "text/plain": [
       "<Figure size 640x480 with 1 Axes>"
      ]
     },
     "metadata": {},
     "output_type": "display_data"
    }
   ],
   "source": [
    "# Plot a histogram of all counts values\n",
    "\n",
    "peak_values, counts = np.unique(adata.X.data, return_counts=True)\n",
    "plt.bar(peak_values, counts)\n",
    "plt.xlabel('Peak Values')\n",
    "plt.ylabel('Frequency')\n",
    "plt.title('Histogram of ATAC-Seq counts values')\n",
    "plt.yscale('log')\n",
    "plt.show()"
   ]
  },
  {
   "cell_type": "code",
   "execution_count": 15,
   "id": "8c01a77e",
   "metadata": {
    "scrolled": false
   },
   "outputs": [
    {
     "name": "stderr",
     "output_type": "stream",
     "text": [
      " FutureWarning:/home/stud1/.conda/envs/datenanalyse/lib/python3.10/site-packages/seaborn/_oldcore.py:1498: is_categorical_dtype is deprecated and will be removed in a future version. Use isinstance(dtype, CategoricalDtype) instead\n",
      " FutureWarning:/home/stud1/.conda/envs/datenanalyse/lib/python3.10/site-packages/seaborn/_oldcore.py:1119: use_inf_as_na option is deprecated and will be removed in a future version. Convert inf values to NaN before operating instead.\n"
     ]
    },
    {
     "data": {
      "text/plain": [
       "<seaborn.axisgrid.FacetGrid at 0x7fc4080f0220>"
      ]
     },
     "execution_count": 15,
     "metadata": {},
     "output_type": "execute_result"
    },
    {
     "data": {
      "image/png": "[encoded data removed]",
      "text/plain": [
       "<Figure size 500x500 with 1 Axes>"
      ]
     },
     "metadata": {},
     "output_type": "display_data"
    }
   ],
   "source": [
    "sns.displot(adata.obs[\"total_counts\"], kind='hist', log_scale=(False, True), bins=200)"
   ]
  }
 ],
 "metadata": {
  "kernelspec": {
   "display_name": "datenanalyse",
   "language": "python",
   "name": "datenanalyse"
  },
  "language_info": {
   "codemirror_mode": {
    "name": "ipython",
    "version": 3
   },
   "file_extension": ".py",
   "mimetype": "text/x-python",
   "name": "python",
   "nbconvert_exporter": "python",
   "pygments_lexer": "ipython3",
   "version": "3.10.13"
  }
 },
 "nbformat": 4,
 "nbformat_minor": 5
}
